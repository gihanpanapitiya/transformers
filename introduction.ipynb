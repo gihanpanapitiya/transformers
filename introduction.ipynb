{
 "cells": [
  {
   "cell_type": "markdown",
   "id": "216fda15-7e6b-4b7a-9eb3-ac29ad8eb543",
   "metadata": {},
   "source": [
    "let's say, that we need to build a model to translate english to a different language"
   ]
  },
  {
   "cell_type": "markdown",
   "id": "68a433c0-64a2-4ff4-8a15-3c030db57bdc",
   "metadata": {},
   "source": [
    "$y_{1} = \\sum_{j} w_{i,j}x_{j}$ <br>\n",
    "$= w_{1,1}x_{1} + w_{1,2}x_{2} + w_{1,3}x_{3} + w_{1,4}x_{4} + w_{1,5}x_{5} + w_{1,6}x_{6}$"
   ]
  },
  {
   "cell_type": "markdown",
   "id": "1538cd02",
   "metadata": {},
   "source": [
    "![title](assets/pred1.png)\n"
   ]
  },
  {
   "cell_type": "markdown",
   "id": "dd6929e9-1bd7-4996-ac2e-18247612296a",
   "metadata": {},
   "source": [
    "Now let's define the weights in a different way, using the features themselves."
   ]
  },
  {
   "cell_type": "markdown",
   "id": "61b91f09-2158-4b4e-b606-7357599d6b3c",
   "metadata": {},
   "source": [
    "$w^{'}_{i,j} = x_{i}^{T}x_{j}$"
   ]
  },
  {
   "cell_type": "markdown",
   "id": "42d3c9ad-a905-4054-9b08-1702f5e5090c",
   "metadata": {},
   "source": [
    "$w_{i,j} = \\frac{exp(w^{'}_{i,j})}{\\sum_{j} exp(w^{'}_{i,j}) } $"
   ]
  },
  {
   "cell_type": "markdown",
   "id": "7715e811",
   "metadata": {},
   "source": []
  }
 ],
 "metadata": {
  "kernelspec": {
   "display_name": "p11",
   "language": "python",
   "name": "python3"
  },
  "language_info": {
   "codemirror_mode": {
    "name": "ipython",
    "version": 3
   },
   "file_extension": ".py",
   "mimetype": "text/x-python",
   "name": "python",
   "nbconvert_exporter": "python",
   "pygments_lexer": "ipython3",
   "version": "3.11.9"
  }
 },
 "nbformat": 4,
 "nbformat_minor": 5
}
